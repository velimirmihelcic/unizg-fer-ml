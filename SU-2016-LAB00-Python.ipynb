{
 "cells": [
  {
   "cell_type": "markdown",
   "metadata": {},
   "source": [
    "Sveučilište u Zagrebu<br>\n",
    "Fakultet elektrotehnike i računarstva\n",
    "\n",
    "## Strojno učenje 2016./2017.\n",
    "\n",
    "<a href=\"http://www.fer.unizg.hr/predmet/su\">http://www.fer.unizg.hr/predmet/su</a>"
   ]
  },
  {
   "cell_type": "markdown",
   "metadata": {},
   "source": [
    "### Laboratorijska vježba 0: Uvod u Python\n",
    "\n",
    "(c) 2015-2016 Domagoj Alagić\n",
    "\n",
    "<i>Verzija: 0.1</i> <br/>\n",
    "<i>Zadnji put ažurirano: 7. listopada 2016.</i>"
   ]
  },
  {
   "cell_type": "code",
   "execution_count": 1,
   "metadata": {
    "collapsed": false
   },
   "outputs": [
    {
     "name": "stdout",
     "output_type": "stream",
     "text": [
      "Populating the interactive namespace from numpy and matplotlib\n"
     ]
    }
   ],
   "source": [
    "import numpy as np\n",
    "import scipy as sp\n",
    "from scipy import stats\n",
    "import matplotlib.pyplot as plt\n",
    "from sklearn import datasets\n",
    "%pylab inline"
   ]
  },
  {
   "cell_type": "markdown",
   "metadata": {},
   "source": [
    "## 1."
   ]
  },
  {
   "cell_type": "markdown",
   "metadata": {},
   "source": [
    "__(a)__ Kreirajte dvije liste: $a = [2, 4, 5, 6, 8, 13]$ i $b = [1, 3, 10, 13, 15]$."
   ]
  },
  {
   "cell_type": "code",
   "execution_count": 2,
   "metadata": {
    "collapsed": false
   },
   "outputs": [],
   "source": [
    "a = np.array([2, 4, 5, 6, 8, 13])\n",
    "b = np.array([1, 3, 10, 13, 15])"
   ]
  },
  {
   "cell_type": "markdown",
   "metadata": {},
   "source": [
    "__(b)__ Napišite kôd koji konkatenira liste $a$ i $b$ u listu $c$:"
   ]
  },
  {
   "cell_type": "code",
   "execution_count": 3,
   "metadata": {
    "collapsed": false
   },
   "outputs": [
    {
     "data": {
      "text/plain": [
       "array([ 2,  4,  5,  6,  8, 13,  1,  3, 10, 13, 15])"
      ]
     },
     "execution_count": 3,
     "metadata": {},
     "output_type": "execute_result"
    }
   ],
   "source": [
    "c = np.concatenate([a, b])\n",
    "c"
   ]
  },
  {
   "cell_type": "markdown",
   "metadata": {},
   "source": [
    "__(c)__ Sortirajte listu $c$:"
   ]
  },
  {
   "cell_type": "code",
   "execution_count": 4,
   "metadata": {
    "collapsed": false
   },
   "outputs": [
    {
     "data": {
      "text/plain": [
       "array([ 1,  2,  3,  4,  5,  6,  8, 10, 13, 13, 15])"
      ]
     },
     "execution_count": 4,
     "metadata": {},
     "output_type": "execute_result"
    }
   ],
   "source": [
    "c.sort()\n",
    "c"
   ]
  },
  {
   "cell_type": "markdown",
   "metadata": {},
   "source": [
    "__(d)__ Izbacite duplikate iz liste c:"
   ]
  },
  {
   "cell_type": "code",
   "execution_count": 5,
   "metadata": {
    "collapsed": false
   },
   "outputs": [
    {
     "data": {
      "text/plain": [
       "array([ 1,  2,  3,  4,  5,  6,  8, 10, 13, 15])"
      ]
     },
     "execution_count": 5,
     "metadata": {},
     "output_type": "execute_result"
    }
   ],
   "source": [
    "c = np.unique(c)\n",
    "c"
   ]
  },
  {
   "cell_type": "markdown",
   "metadata": {},
   "source": [
    "__(e)__ Dohvatite i ispišite (pazite na indeksiranje od 0):\n",
    "* treći element,\n",
    "* zadnja dva elementa,\n",
    "* sve elemente između trećeg i šestog (uključujući treći element, isključujući šesti)."
   ]
  },
  {
   "cell_type": "code",
   "execution_count": 6,
   "metadata": {
    "collapsed": false
   },
   "outputs": [
    {
     "name": "stdout",
     "output_type": "stream",
     "text": [
      "3\n",
      "[13 15]\n",
      "[3 4 5]\n"
     ]
    }
   ],
   "source": [
    "print(c[2])\n",
    "print(c[-2:])\n",
    "print(c[2:5])"
   ]
  },
  {
   "cell_type": "markdown",
   "metadata": {},
   "source": [
    "__(f)__ Generirajte interval brojeva `ran` s elementima iz $[2, 20]$."
   ]
  },
  {
   "cell_type": "code",
   "execution_count": 7,
   "metadata": {
    "collapsed": false
   },
   "outputs": [
    {
     "data": {
      "text/plain": [
       "array([ 2,  3,  4,  5,  6,  7,  8,  9, 10, 11, 12, 13, 14, 15, 16, 17, 18,\n",
       "       19, 20])"
      ]
     },
     "execution_count": 7,
     "metadata": {},
     "output_type": "execute_result"
    }
   ],
   "source": [
    "ran = np.arange(2,21)\n",
    "ran"
   ]
  },
  {
   "cell_type": "markdown",
   "metadata": {},
   "source": [
    "__(g)__ Ispišite sve generirane brojeve iz intervala skupa s njihovim indeksima u listi:"
   ]
  },
  {
   "cell_type": "code",
   "execution_count": 8,
   "metadata": {
    "collapsed": false
   },
   "outputs": [
    {
     "name": "stdout",
     "output_type": "stream",
     "text": [
      "0 2\n",
      "1 3\n",
      "2 4\n",
      "3 5\n",
      "4 6\n",
      "5 7\n",
      "6 8\n",
      "7 9\n",
      "8 10\n",
      "9 11\n",
      "10 12\n",
      "11 13\n",
      "12 14\n",
      "13 15\n",
      "14 16\n",
      "15 17\n",
      "16 18\n",
      "17 19\n",
      "18 20\n"
     ]
    }
   ],
   "source": [
    "for index, value in enumerate(ran):\n",
    "    print(index, value)"
   ]
  },
  {
   "cell_type": "markdown",
   "metadata": {},
   "source": [
    "__(h)__ Korištenjem sažetog zapisa liste (engl. _list comprehension_) transformirajte listu `ran` tako da sve elemente zamijenite njihovim prirodnim logaritmom."
   ]
  },
  {
   "cell_type": "code",
   "execution_count": 9,
   "metadata": {
    "collapsed": false
   },
   "outputs": [
    {
     "data": {
      "text/plain": [
       "[0.69314718055994529,\n",
       " 1.0986122886681098,\n",
       " 1.3862943611198906,\n",
       " 1.6094379124341003,\n",
       " 1.791759469228055,\n",
       " 1.9459101490553132,\n",
       " 2.0794415416798357,\n",
       " 2.1972245773362196,\n",
       " 2.3025850929940459,\n",
       " 2.3978952727983707,\n",
       " 2.4849066497880004,\n",
       " 2.5649493574615367,\n",
       " 2.6390573296152584,\n",
       " 2.7080502011022101,\n",
       " 2.7725887222397811,\n",
       " 2.8332133440562162,\n",
       " 2.8903717578961645,\n",
       " 2.9444389791664403,\n",
       " 2.9957322735539909]"
      ]
     },
     "execution_count": 9,
     "metadata": {},
     "output_type": "execute_result"
    }
   ],
   "source": [
    "#ran = np.log(ran)\n",
    "ran = [np.log(num) for num in ran]\n",
    "ran"
   ]
  },
  {
   "cell_type": "markdown",
   "metadata": {},
   "source": [
    "## 2."
   ]
  },
  {
   "cell_type": "markdown",
   "metadata": {},
   "source": [
    "__(a)__ Napišite funkciju `make_3sg_form(word)` koja vraća glagol u trećem licu jednine za dani glagol u infinitivu, npr. _try_ -> _tries_. Slijedite sljedeća pravila:\n",
    "* Ako glagol završava na _y_, odbaci _y_ i dodaj _ies_.\n",
    "* Ako glagol završava na _o_, _ch_, _s_, _sh_, _x_ ili _z_, dodaj _es_.\n",
    "* Inače samo dodaj _s_.\n",
    "\n",
    "NB: Znakovni niz je zapravo polje znakova tako da vrijede \"trikovi\" za indeksiranje polja.\n",
    "\n",
    "__(b)__ Isprobajte implementiranu funkciju za _fix_, _brush_, _cry_, _play_ i _echo_. Primjetite da je ovo složen problem i da tri jednostavna pravila neće uspjeti pokriti sve slučajeve."
   ]
  },
  {
   "cell_type": "code",
   "execution_count": 10,
   "metadata": {
    "collapsed": false
   },
   "outputs": [
    {
     "data": {
      "text/plain": [
       "'plaies'"
      ]
     },
     "execution_count": 10,
     "metadata": {},
     "output_type": "execute_result"
    }
   ],
   "source": [
    "def make_3sg_form(word):\n",
    "    es_endings = (\"o\", \"ch\", \"s\", \"sh\", \"x\", \"z\")\n",
    "    if word.endswith(\"y\"):\n",
    "        word = word[:-1]\n",
    "        word += \"ies\"\n",
    "    elif word.endswith(es_endings):\n",
    "        word += \"es\"\n",
    "    else:\n",
    "        word += \"s\"\n",
    "    return word\n",
    "\n",
    "make_3sg_form(\"play\")"
   ]
  },
  {
   "cell_type": "markdown",
   "metadata": {},
   "source": [
    "## 3."
   ]
  },
  {
   "cell_type": "markdown",
   "metadata": {},
   "source": [
    "Napišite funkciju `filterShortWords (word_list, min_length)` koja prima listu riječi i minimalnu dopuštenu duljinu riječi te vraća __novu__ listu riječi koja sadrži samo one riječi čija je duljina veća od minimalne dopuštene. Obavezno provjerite da je dana duljina riječi pozitivan broj veći od 1. Ako nije, bacite iznimku. U slučaju da korisnik nije zadao duljinu, funkcija radi jednako kao da je korisnik zadao duljinu od dva znaka (koristite podrazumijevane argumente, engl. _default arguments_). \n",
    "\n",
    "Zadatak riješite na dva načina: \n",
    "\n",
    "* __(a)__ korištenjem `for` petlji,\n",
    "* __(b)__ korištenjem sažetog zapisa liste,\n",
    "* __(c)__ korištenjem metode `filter` u kombinaciji s lambda-izrazom. \n",
    "\n",
    "__(d)__ Pokažite na primjeru da su izlazi implementiranih funkcija jednaki.\n",
    "\n",
    "NB: Podrazumijevani elementi (ili grupa istih) uvijek dolaze na kraju liste argumenata u definiciji funkcije."
   ]
  },
  {
   "cell_type": "code",
   "execution_count": 11,
   "metadata": {
    "collapsed": false
   },
   "outputs": [
    {
     "name": "stdout",
     "output_type": "stream",
     "text": [
      "A nacin: ['mujo', 'mujoo']\n",
      "B nacin: ['mujo', 'mujoo']\n",
      "C nacin: ['mujo', 'mujoo']\n"
     ]
    }
   ],
   "source": [
    "class WordTooShortForFilteringException(Exception):\n",
    "    \"\"\"Raised when word containing less than two letters is provided to filtering function\"\"\"\n",
    "\n",
    "def validate_word_list(word_list):\n",
    "    if any([len(word) <= 1 for word in word_list]):\n",
    "        raise WordTooShortForFilteringException(\"One of words is too short (less than 2 letters)\")\n",
    "        \n",
    "def filter_short_words_a(word_list, min_length=2):\n",
    "    filtered_list = []\n",
    "    validate_word_list(word_list)\n",
    "    for word in word_list:\n",
    "        if len(word) >= min_length: filtered_list.append(word)\n",
    "    return filtered_list\n",
    "\n",
    "def filter_short_words_b(word_list, min_length=2):\n",
    "    validate_word_list(word_list)\n",
    "    return [word for word in word_list if len(word) >= min_length]\n",
    "\n",
    "def filter_short_words_c(word_list, min_length=2):\n",
    "    validate_word_list(word_list)\n",
    "    return list(filter(lambda word: len(word) >= min_length, word_list))\n",
    "\n",
    "word_list = [\"mujo\", \"mujoo\", \"mu\"]\n",
    "\n",
    "print(\"A nacin: {}\".format(filter_short_words_a(word_list, 3)))\n",
    "print(\"B nacin: {}\".format(filter_short_words_b(word_list, 3)))\n",
    "print(\"C nacin: {}\".format(filter_short_words_c(word_list, 3)))"
   ]
  },
  {
   "cell_type": "markdown",
   "metadata": {},
   "source": [
    "## 4."
   ]
  },
  {
   "cell_type": "markdown",
   "metadata": {},
   "source": [
    "Dana vam je mapa koja za ključeve sadrži nazive programskih jezika, a za vrijednosti liste programskih paradigmi koje određeni jezik pokriva."
   ]
  },
  {
   "cell_type": "code",
   "execution_count": 12,
   "metadata": {
    "collapsed": false
   },
   "outputs": [],
   "source": [
    "langs_paradigms = {\n",
    "                  \"Java\" : [\"object-oriented\", \"imperative\"],\n",
    "                  \"Haskell\" : [\"functional\"],\n",
    "                  \"Lisp\" : [\"functional\", \"procedural\"]\n",
    "                  }"
   ]
  },
  {
   "cell_type": "markdown",
   "metadata": {},
   "source": [
    "Napišite razred `ProgLanguageRepository` uzimajući u obzir sljedeće stvari:\n",
    "* Konstruktor ovog razreda prima početnu mapu koja sadrži programske jezike i njihove paradigme.\n",
    "* Dana mapa sprema se kao član klase imena `data`.\n",
    "* Razred sadrži metodu `count` koja vraća broj programskih jezika dostupnih u repozitoriju.\n",
    "* Razred sadrži metodu `get_langs_paradigms (lang)` koja za dano ime programskog jezika vraća listu njegovih paradigmi ili vraća `None` ako taj jezik ne postoji u repozitoriju.\n",
    "* Razred sadrži metodu `add_lang_paradigm (lang, paradigm)` koja danom programskom jeziku dodaje paradigmu (ako je već nema).\n",
    "* Razred sadrži metodu `remove_lang_paradigm (lang, paradigm)` koja danom programskom jeziku miče danu paradigmu (ako je ima).\n",
    "* Razred ima nadjačanu metodu za znakovnu reprezentaciju koja samo ispisuje znakovnu reprezentaciju člana `data`.\n",
    "\n",
    "Pokažite na par primjera da vaša implementacija radi."
   ]
  },
  {
   "cell_type": "code",
   "execution_count": 13,
   "metadata": {
    "collapsed": false
   },
   "outputs": [],
   "source": [
    "class ProgLanguageRepository:\n",
    "    \n",
    "    data = {}\n",
    "    \n",
    "    def __init__(self, langs_paradigms):\n",
    "        ProgLanguageRepository.data = langs_paradigms\n",
    "        \n",
    "    def __str__(self):\n",
    "        return str(ProgLanguageRepository.data)\n",
    "    \n",
    "    def count(self):\n",
    "        return len(ProgLanguageRepository.data)\n",
    "    \n",
    "    def get_langs_paradigms(self, lang):\n",
    "        return ProgLanguageRepository.data[lang] if lang in ProgLanguageRepository.data else None\n",
    "    \n",
    "    def add_lang_paradigm(self, lang, paradigm):\n",
    "        ProgLanguageRepository.data.setdefault(lang, []).append(paradigm)\n",
    "        ProgLanguageRepository.data[lang] = list(set(ProgLanguageRepository.data[lang]))\n",
    "        \n",
    "    def remove_lang_paradigm(self, lang, paradigm):\n",
    "        ProgLanguageRepository.data[lang] = list(filter(lambda p: p != paradigm, ProgLanguageRepository.data[lang]))"
   ]
  },
  {
   "cell_type": "code",
   "execution_count": 14,
   "metadata": {
    "collapsed": false
   },
   "outputs": [
    {
     "name": "stdout",
     "output_type": "stream",
     "text": [
      "Trenutan broj jezika je 3\n",
      "['najbolji', 'pobjednik']\n",
      "{'Lisp': ['functional', 'procedural'], 'Haskell': ['functional'], 'Python': ['najbolji'], 'Java': ['object-oriented', 'imperative']}\n"
     ]
    }
   ],
   "source": [
    "repo = ProgLanguageRepository(langs_paradigms)\n",
    "print(\"Trenutan broj jezika je {}\".format(repo.count()))\n",
    "repo.add_lang_paradigm('Python', 'pobjednik')\n",
    "repo.add_lang_paradigm('Python', 'najbolji')\n",
    "print(repo.get_langs_paradigms('Python'))\n",
    "repo.remove_lang_paradigm('Python', 'pobjednik')\n",
    "print(repo)"
   ]
  },
  {
   "cell_type": "markdown",
   "metadata": {},
   "source": [
    "## 5."
   ]
  },
  {
   "cell_type": "markdown",
   "metadata": {},
   "source": [
    "__(a)__ Napišite kôd koji stvara sljedeća tri vektor-stupca, jedan vektor-redak i kvadratnu matricu ranga 2 (koristite `numpy` za cijeli zadatak):\n",
    "\n",
    "$ x_{1} = \\begin{pmatrix}\n",
    "1\\\\\n",
    "2\\\\\n",
    "\\end{pmatrix}$,\n",
    "$ x_{2} = \\begin{pmatrix}\n",
    "3\\\\\n",
    "5\\\\\n",
    "\\end{pmatrix}$,\n",
    "$ x_{3} = \\begin{pmatrix}\n",
    "-3\\\\\n",
    "4\\\\\n",
    "\\end{pmatrix}$,\n",
    "$ x_{4} = \\begin{pmatrix}\n",
    "4\\\\\n",
    "0\\\\\n",
    "\\end{pmatrix}^T$,\n",
    "$ A = \\begin{pmatrix}\n",
    "5 & 3 \\\\\n",
    "10 & 6 \\\\\n",
    "\\end{pmatrix}\n",
    "$\n",
    "\n",
    "__(b)__ Zatim napišite naredbe koje stvaraju dvije nove matrice: matricu $C$ dimenzija $2\\times3$ koja se dobije tako da se vektor-stupci poredaju horizontalno jedan kraj drugog te matricu $D$ dimenzija $3\\times2$ koja se dobije tako da se matrica $A$ postavi ispod danog vektor-retka."
   ]
  },
  {
   "cell_type": "code",
   "execution_count": 15,
   "metadata": {
    "collapsed": false
   },
   "outputs": [
    {
     "name": "stdout",
     "output_type": "stream",
     "text": [
      "[[ 1  3 -3]\n",
      " [ 2  5  4]]\n",
      "[[ 4  0]\n",
      " [ 5  3]\n",
      " [10  6]]\n"
     ]
    }
   ],
   "source": [
    "x1 = np.array([[1],[2]])\n",
    "x2 = np.array([[3],[5]])\n",
    "x3 = np.array([[-3],[4]])\n",
    "x4 = np.array([[4,0]])\n",
    "A = np.array([[5,3],[10,6]])\n",
    "\n",
    "C = np.hstack((x1,x2,x3))\n",
    "D = np.vstack((x4,A))\n",
    "\n",
    "print(C)\n",
    "print(D)"
   ]
  },
  {
   "cell_type": "markdown",
   "metadata": {},
   "source": [
    "__(c)__ Izračunajte umnožak matrica $C$ i $D$ te ga pohranite u matricu $U$."
   ]
  },
  {
   "cell_type": "code",
   "execution_count": 16,
   "metadata": {
    "collapsed": false
   },
   "outputs": [
    {
     "data": {
      "text/plain": [
       "array([[-11,  -9],\n",
       "       [ 73,  39]])"
      ]
     },
     "execution_count": 16,
     "metadata": {},
     "output_type": "execute_result"
    }
   ],
   "source": [
    "U = C.dot(D)\n",
    "U"
   ]
  },
  {
   "cell_type": "markdown",
   "metadata": {},
   "source": [
    "__(d)__ Nadalje, napišite kôd koji izračunava inverz matrice $U$ (spremiti u matricu $I$) kojeg zatim transponira (i sprema u matricu $R$)."
   ]
  },
  {
   "cell_type": "code",
   "execution_count": 17,
   "metadata": {
    "collapsed": false
   },
   "outputs": [
    {
     "data": {
      "text/plain": [
       "array([[ 0.17105263, -0.32017544],\n",
       "       [ 0.03947368, -0.04824561]])"
      ]
     },
     "execution_count": 17,
     "metadata": {},
     "output_type": "execute_result"
    }
   ],
   "source": [
    "I = np.linalg.inv(U)\n",
    "R = np.transpose(I)\n",
    "R"
   ]
  },
  {
   "cell_type": "markdown",
   "metadata": {},
   "source": [
    "__(e)__ Izračunajte sumu svih elemenata u matrici $D$ (spremite u varijablu `D_total`), ali i sume po zasebnim dimenzijama (`D_x`, `D_y`)."
   ]
  },
  {
   "cell_type": "code",
   "execution_count": 18,
   "metadata": {
    "collapsed": false
   },
   "outputs": [],
   "source": [
    "D_total = np.sum(D)\n",
    "D_x = np.sum(D, axis=0)\n",
    "D_y = np.sum(D, axis=1)"
   ]
  },
  {
   "cell_type": "markdown",
   "metadata": {},
   "source": [
    "__(f)__ Ispišite determinantu matrice $R$."
   ]
  },
  {
   "cell_type": "code",
   "execution_count": 19,
   "metadata": {
    "collapsed": false
   },
   "outputs": [
    {
     "data": {
      "text/plain": [
       "0.0043859649122807006"
      ]
     },
     "execution_count": 19,
     "metadata": {},
     "output_type": "execute_result"
    }
   ],
   "source": [
    "np.linalg.det(R)"
   ]
  },
  {
   "cell_type": "markdown",
   "metadata": {},
   "source": [
    "__(g)__ Isprobajte vrijedi li $R\\cdot R^{-1} = I$."
   ]
  },
  {
   "cell_type": "code",
   "execution_count": 20,
   "metadata": {
    "collapsed": false
   },
   "outputs": [
    {
     "data": {
      "text/plain": [
       "array([[ 1.,  0.],\n",
       "       [ 0.,  1.]])"
      ]
     },
     "execution_count": 20,
     "metadata": {},
     "output_type": "execute_result"
    }
   ],
   "source": [
    "R.dot(np.linalg.inv(R))"
   ]
  },
  {
   "cell_type": "markdown",
   "metadata": {},
   "source": [
    "__(h)__ Stvorite vektor-stupac $n$ dimenzija $4\\times 1$ čiji su svi elementi 0 (bez ručnog pisanja svih elemenata)."
   ]
  },
  {
   "cell_type": "code",
   "execution_count": 21,
   "metadata": {
    "collapsed": false
   },
   "outputs": [
    {
     "data": {
      "text/plain": [
       "array([[ 0.],\n",
       "       [ 0.],\n",
       "       [ 0.],\n",
       "       [ 0.]])"
      ]
     },
     "execution_count": 21,
     "metadata": {},
     "output_type": "execute_result"
    }
   ],
   "source": [
    "n = np.zeros((4,1))\n",
    "n"
   ]
  },
  {
   "cell_type": "markdown",
   "metadata": {},
   "source": [
    "## 6."
   ]
  },
  {
   "cell_type": "markdown",
   "metadata": {},
   "source": [
    "__(a)__ Napišite kôd koji iscrtava sljedeće funkcije:\n",
    "\n",
    "$f_{1}(x) = \\sqrt{(1-(|x|-1)^2)}$ i $f_{2}(x) = -3 \\cdot \\sqrt{(1-\\sqrt{\\frac{|x|}{2}})}$\n",
    "\n",
    "pritom definirajući domenu funkcija kao $x \\in [-2, 2]$ (u 1000 točaka). Graf funkcije $f_{1}(x)$ prikažite plavom bojom, a graf funkcije $f_{2}(x)$ crvenom. Iscrtajte oba grafa na istoj slici tako da su vidljive točke iz intervala $x \\in [-3, 3]$ i $y \\in [-3, 1.5]$.\n",
    "\n",
    "__(b)__ Ostavite oznake osi jednostavno kao $x$ i $y$. Iscrtajte legendu u donjem desnom kutu tako da je naziv funkcije $f_{1}(x)$ _bolja polovica_, a naziv funkcije $f_{2}(x)$ _dobra polovica_."
   ]
  },
  {
   "cell_type": "code",
   "execution_count": 22,
   "metadata": {
    "collapsed": false
   },
   "outputs": [
    {
     "data": {
      "image/png": "[encoded data removed]",
      "text/plain": [
       "<matplotlib.figure.Figure at 0x7fb70e237710>"
      ]
     },
     "metadata": {},
     "output_type": "display_data"
    }
   ],
   "source": [
    "x = np.linspace(-2.0, 2.0, num=1000)\n",
    "\n",
    "f1 = np.sqrt(1 - np.square((np.absolute(x) - 1)))\n",
    "f2 = -3 * np.sqrt(1 - np.sqrt(np.absolute(x) / 2))\n",
    "\n",
    "plt.plot(x, f1, 'b-', label='bolja polovica')\n",
    "plt.plot(x, f2, 'r-', label='dobra polovica')\n",
    "plt.axis([-3, 3, -3, 1.5])\n",
    "plt.xlabel('x')\n",
    "plt.ylabel('y')\n",
    "plt.legend(loc=4)\n",
    "plt.show()"
   ]
  },
  {
   "cell_type": "markdown",
   "metadata": {},
   "source": [
    "## 7."
   ]
  },
  {
   "cell_type": "markdown",
   "metadata": {},
   "source": [
    "__(a)__ Učitajte skup podataka _Iris_. Ovaj skup podataka sadrži 150 instanci, 50 za svaku od tri klase (_Iris setosa_, _Iris virginica_ i _Iris versicolor_). Svaka instanca, to jest vektor, sadrži četiri značajke: širinu i dužinu latice te širinu i dužinu čašićnog listića. U polju _iris.data_ nalaze se instance, dok se u _iris.target_ nalaze oznake instanci (njihove stvarne klase).  Ispišite dimenzije polja instanci te polja njihovih stvarnih oznaka."
   ]
  },
  {
   "cell_type": "code",
   "execution_count": 23,
   "metadata": {
    "collapsed": false
   },
   "outputs": [
    {
     "name": "stdout",
     "output_type": "stream",
     "text": [
      "Dimenzije polja instanci: (150, 4)\n",
      "Dimenzije polja oznaka: (150,)\n"
     ]
    }
   ],
   "source": [
    "iris = datasets.load_iris()\n",
    "print(\"Dimenzije polja instanci: {}\".format(iris.data.shape))\n",
    "print(\"Dimenzije polja oznaka: {}\".format(iris.target.shape))"
   ]
  },
  {
   "cell_type": "markdown",
   "metadata": {},
   "source": [
    "__(b)__ Budući da ne možemo vizualizirati 4-dimenzijske podatke, iz svake instance izdvojite samo prve dvije značajke. Koristite indeksiranje poljem brojeva. Ispišite dimenzije dobivenog polja instanci."
   ]
  },
  {
   "cell_type": "code",
   "execution_count": 24,
   "metadata": {
    "collapsed": false
   },
   "outputs": [
    {
     "data": {
      "text/plain": [
       "(150, 2)"
      ]
     },
     "execution_count": 24,
     "metadata": {},
     "output_type": "execute_result"
    }
   ],
   "source": [
    "samples = iris.data[:, np.array([0, 1])]\n",
    "samples.shape"
   ]
  },
  {
   "cell_type": "markdown",
   "metadata": {},
   "source": [
    "__(c)__ Logičkim indeksiranjem razdvojite primjere za svaku od tri klase. Ispišite dimenzije dobivenih polja."
   ]
  },
  {
   "cell_type": "code",
   "execution_count": 25,
   "metadata": {
    "collapsed": false
   },
   "outputs": [
    {
     "name": "stdout",
     "output_type": "stream",
     "text": [
      "(50, 2)\n",
      "(50, 2)\n",
      "(50, 2)\n"
     ]
    }
   ],
   "source": [
    "samples_setosa = samples[iris.target == 0]\n",
    "samples_virgnica = samples[iris.target == 1]\n",
    "samples_versicolor = samples[iris.target == 2]\n",
    "\n",
    "print(samples_setosa.shape)\n",
    "print(samples_virgnica.shape)\n",
    "print(samples_versicolor.shape)"
   ]
  },
  {
   "cell_type": "markdown",
   "metadata": {},
   "source": [
    "__(d)__ Napišite kôd koji iscrtava četiri zasebna grafa (četiri podgrafa u 2x2 mreži), pri čemu tri grafa prikazuju instance određene klase (točke u 2-dimenzijskom prostoru), a četvrti ih prikazuje sve (u različitim bojama). Osigurajte da svi grafovi prikazuju isto područje grafa (npr. $x \\in [4,9]$ i $y \\in [1.5, 5]$).\n",
    "\n",
    "Proučite kako se postavlja veličina glavnog okvira (u koji se smještaju podgrafovi) te ju postavite na 10x8."
   ]
  },
  {
   "cell_type": "code",
   "execution_count": 26,
   "metadata": {
    "collapsed": false
   },
   "outputs": [
    {
     "data": {
      "image/png": "[encoded data removed]",
      "text/plain": [
       "<matplotlib.figure.Figure at 0x7fb70a9d4b70>"
      ]
     },
     "metadata": {},
     "output_type": "display_data"
    }
   ],
   "source": [
    "fig, axes = plt.subplots(2, 2, figsize=(10, 8))\n",
    "\n",
    "axes[0, 0].scatter(samples_setosa[:, 0], samples_setosa[:, 1])\n",
    "axes[0, 1].scatter(samples_virgnica[:, 0], samples_virgnica[:, 1])\n",
    "axes[1, 0].scatter(samples_versicolor[:, 0], samples_versicolor[:, 1])\n",
    "axes[1, 1].scatter(samples[:, 0], samples[:, 1], c=iris.target)\n",
    "\n",
    "for ax in axes.ravel():\n",
    "    ax.set_xlim(4, 9)\n",
    "    ax.set_ylim(1.5, 5)\n",
    "    ax.set_xlabel('Sepal length')\n",
    "    ax.set_ylabel('Sepal width')\n",
    "    \n",
    "plt.show()"
   ]
  },
  {
   "cell_type": "markdown",
   "metadata": {},
   "source": [
    "## 8."
   ]
  },
  {
   "cell_type": "markdown",
   "metadata": {},
   "source": [
    "__(a)__ Napišite kôd koji u petlji iscrtava grafove normalnih distribucija definiranih s parametarima $\\mu$ i $\\sigma$:\n",
    "\n",
    "* $\\mu = 3$\n",
    "* $\\sigma \\in [1, 5]$ (korak 1)\n",
    "\n",
    "Dakle, generirat ćete pet grafova normalnih distribucija: $\\mathcal{N}_{1}(\\mu = 3, \\sigma = 1)$, $\\mathcal{N}_{2}(\\mu = 3, \\sigma = 2)$, ... , $\\mathcal{N}_{1}(\\mu = 3, \\sigma = 5)$.\n",
    "\n",
    "Grafove iscrtajte na istoj slici tako da su vidljive točke iz intervala $x \\in [-15, 15]$ i $y \\in [0, 0.5]$. Za svaki graf upotrijebite drugu boju. Za domenu koristite $[-50, 50]$ (uzorkujte 1000 točaka). Također napravite legendu u gornjem lijevom kutu koji će sve grafove nazvati onako kako su i u zadatku \n",
    "definirani ($\\LaTeX$ kôd radi unutar znakovnih nizova koji definiraju oznaku unutar legende), npr. $\\mathcal{N}_{1}(\\mu = 3, \\sigma = 5)$.\n"
   ]
  },
  {
   "cell_type": "code",
   "execution_count": 27,
   "metadata": {
    "collapsed": false
   },
   "outputs": [
    {
     "data": {
      "image/png": "[encoded data removed]",
      "text/plain": [
       "<matplotlib.figure.Figure at 0x7fb70e237438>"
      ]
     },
     "metadata": {},
     "output_type": "display_data"
    }
   ],
   "source": [
    "x = np.linspace(-50, 50, num=1000)\n",
    "mean = 3\n",
    "deviations = np.arange(1, 6)\n",
    "\n",
    "for std in deviations:\n",
    "    y = stats.norm(mean, std).pdf(x)\n",
    "    plt.plot(x, y, label=\"$\\mathcal{{N}}_{{{0}}}(\\mu = 3, \\sigma = {0})$\".format(std))\n",
    "    \n",
    "plt.axis([-15, 15, 0, 0.5])\n",
    "plt.legend(loc=2)\n",
    "plt.show()"
   ]
  },
  {
   "cell_type": "markdown",
   "metadata": {},
   "source": [
    "__(b)__ Sada pretpostavite da imate zadanu distribuciju ocjena na nekom kolegiju koja se pokorava normalnoj distribuciji $\\mathcal{N}_{G}(\\mu = 62, \\sigma = 13)$. Najprije je iscrtajte (nebitno kako), ali osigurajte da je domena $[0, 100]$ (raspon mogućih bodova na kolegiju) također uzorkovana u 1000 točaka."
   ]
  },
  {
   "cell_type": "code",
   "execution_count": 28,
   "metadata": {
    "collapsed": false
   },
   "outputs": [
    {
     "data": {
      "image/png": "[encoded data removed]",
      "text/plain": [
       "<matplotlib.figure.Figure at 0x7fb70aa783c8>"
      ]
     },
     "metadata": {},
     "output_type": "display_data"
    }
   ],
   "source": [
    "point_range = np.linspace(0, 100, num=1000)\n",
    "mark_distribution = stats.norm(62, 13)\n",
    "\n",
    "plt.plot(point_range, mark_distribution.pdf(point_range))\n",
    "plt.show()"
   ]
  },
  {
   "cell_type": "markdown",
   "metadata": {},
   "source": [
    "__(c)__ Međutim, vi polažete kolegij naknadno na roku, a profesoru se zaista ne da ispravljati vaš ispit. Kako bi tome doskočio, profesor često koristi tradicionalnu metodu stubišta (https://www.linkedin.com/pulse/20140414044726-2259773-a-guide-to-grading-exams) koju možemo aproksimirati nasumičnim odabirom broja iz distribucije bodova na ispitu. Napišite kôd koji iz distribucije bodova $\\mathcal{N}_{G}$ dohvaća slučajnu vrijednost koja predstavlja vaš broj bodova (zaokružite bodove na cijeli broj)."
   ]
  },
  {
   "cell_type": "code",
   "execution_count": 29,
   "metadata": {
    "collapsed": false
   },
   "outputs": [
    {
     "name": "stdout",
     "output_type": "stream",
     "text": [
      "Moj broj bodova: 72.1580439853705\n"
     ]
    }
   ],
   "source": [
    "#my_points = np.random.normal(62, 13)\n",
    "my_points = mark_distribution.rvs()\n",
    "\n",
    "print(\"Moj broj bodova: {0}\".format(my_points))"
   ]
  },
  {
   "cell_type": "markdown",
   "metadata": {},
   "source": [
    "## 10."
   ]
  },
  {
   "cell_type": "markdown",
   "metadata": {},
   "source": [
    "Iscrtajte konture 2-dimenzijske Gausove distribucije $\\mathcal{N} (\\vec{\\mu}, \\Sigma)$ sa sljedećim parametrima:\n",
    "\n",
    "* $\\vec{\\mu} = [1, 1]$\n",
    "* $\\Sigma = \\begin{pmatrix}\n",
    "1 & 1 \\\\\n",
    "0.5 & 3 \\\\\n",
    "\\end{pmatrix}$\n",
    "\n",
    "Za domenu uzmite $x_{1} \\in [-1, 2]$ i $y_{2} \\in [-2, 2]$."
   ]
  },
  {
   "cell_type": "code",
   "execution_count": 77,
   "metadata": {
    "collapsed": false
   },
   "outputs": [
    {
     "data": {
      "text/plain": [
       "<matplotlib.contour.QuadContourSet at 0x7fb7085ee5f8>"
      ]
     },
     "execution_count": 77,
     "metadata": {},
     "output_type": "execute_result"
    },
    {
     "data": {
      "image/png": "[encoded data removed]",
      "text/plain": [
       "<matplotlib.figure.Figure at 0x7fb708625390>"
      ]
     },
     "metadata": {},
     "output_type": "display_data"
    }
   ],
   "source": [
    "mean = np.array([1, 1])\n",
    "covariance = np.array([[1, 1], [0.5, 3]])\n",
    "x1, y2 = np.mgrid[-1:2:.01, -2:2:.01]\n",
    "\n",
    "bivariate_distribution = stats.multivariate_normal(mean, covariance)\n",
    "\n",
    "pos = np.dstack((x1, y2))\n",
    "plt.contourf(x1, y2, bivariate_distribution.pdf(pos))"
   ]
  },
  {
   "cell_type": "code",
   "execution_count": null,
   "metadata": {
    "collapsed": true
   },
   "outputs": [],
   "source": []
  }
 ],
 "metadata": {
  "anaconda-cloud": {},
  "kernelspec": {
   "display_name": "Python 3",
   "language": "python",
   "name": "python3"
  },
  "language_info": {
   "codemirror_mode": {
    "name": "ipython",
    "version": 3
   },
   "file_extension": ".py",
   "mimetype": "text/x-python",
   "name": "python",
   "nbconvert_exporter": "python",
   "pygments_lexer": "ipython3",
   "version": "3.6.0"
  }
 },
 "nbformat": 4,
 "nbformat_minor": 0
}
